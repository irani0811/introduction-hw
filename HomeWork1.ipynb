{
 "cells": [
  {
   "cell_type": "markdown",
   "id": "62a46b39-e291-4083-b5a5-448f594737fe",
   "metadata": {},
   "source": [
    "1.编写Python程序，打印\"数据科学与工程导论\"，并使用print(chr(0x2605))语句将星星包围起来。"
   ]
  },
  {
   "cell_type": "code",
   "execution_count": null,
   "id": "21a99d9b-9033-476c-9511-7dc1034901c3",
   "metadata": {},
   "outputs": [],
   "source": [
    "print(chr(0x2605)*11)\n",
    "print(chr(0x2605)+\"数据科学与工程导论\"+chr(0x2605))\n",
    "print(chr(0x2605)*11)"
   ]
  },
  {
   "cell_type": "markdown",
   "id": "54c03196-a353-4104-b974-d62e89b170fb",
   "metadata": {},
   "source": [
    "2.写一个Python程序，输入x, y, z这三个数，将这三个数从小到大使用print函数打印出来。"
   ]
  },
  {
   "cell_type": "code",
   "execution_count": null,
   "id": "432ebf54-0201-4754-863b-1eef10a0338f",
   "metadata": {},
   "outputs": [],
   "source": [
    "x=int(input(\"x=:\"))\n",
    "y=int(input(\"y=:\"))\n",
    "z=int(input(\"z=:\"))\n",
    "number=[x,y,z]\n",
    "number.sort()\n",
    "print(number)"
   ]
  },
  {
   "cell_type": "markdown",
   "id": "263c6b3a-630f-478f-a99a-32e923f7bac9",
   "metadata": {},
   "source": [
    "3.写一个Python程序，有w, x, y, z四个数，将这四个数从大到小使用print函数打印出来。"
   ]
  },
  {
   "cell_type": "code",
   "execution_count": null,
   "id": "6bceacf2-6d15-4156-8efe-7cc7eb898405",
   "metadata": {},
   "outputs": [],
   "source": [
    "w=int(input(\"w=:\"))\n",
    "x=int(input(\"x=:\"))\n",
    "y=int(input(\"y=:\"))\n",
    "z=int(input(\"z=:\"))\n",
    "number=[w,x,y,z]\n",
    "number.sort()\n",
    "print(number)"
   ]
  },
  {
   "cell_type": "markdown",
   "id": "30ed2a28-5efc-4519-9771-0e7f42e2bdf0",
   "metadata": {},
   "source": [
    "4.写一个Python程序，输出1 - 100中的所有奇数。"
   ]
  },
  {
   "cell_type": "code",
   "execution_count": null,
   "id": "293c7de7-e1d8-426e-aeae-f59d56d7f0ca",
   "metadata": {},
   "outputs": [],
   "source": [
    "for num in range(1,101):\n",
    "    if num % 2==1:\n",
    "        print(num )"
   ]
  },
  {
   "cell_type": "markdown",
   "id": "4a528bd5-687c-4ec5-8674-136e95869b56",
   "metadata": {},
   "source": [
    "5.写一个Python程序，用for 循环，求解 1 到 100 的和。"
   ]
  },
  {
   "cell_type": "code",
   "execution_count": null,
   "id": "e5ecf5fe-c2f7-4379-984d-f643c3137b99",
   "metadata": {},
   "outputs": [],
   "source": [
    "sum=0\n",
    "for num in range(1,101):\n",
    "    sum=sum+num\n",
    "print(sum)"
   ]
  },
  {
   "cell_type": "markdown",
   "id": "d114f917-7932-4d82-a569-9657764ea407",
   "metadata": {},
   "source": [
    "6.写一个Python程序，分别用for 和 while 循环实现对一个给定序列的倒排序输出。例如，给定 L=[1, 2, 3, 4, 5]，输出为[5, 4, 3, 2, 1]。"
   ]
  },
  {
   "cell_type": "code",
   "execution_count": null,
   "id": "9025519e-0d73-40a6-88d8-cb19f7de1ffe",
   "metadata": {},
   "outputs": [],
   "source": [
    "L=[1,2,3,4,5]\n",
    "for num in range(len(L)-1,-1,-1):\n",
    "    print(L[num],end=' ')\n",
    "print()\n",
    "index=len(L)-1\n",
    "while index>-1:\n",
    "    print(L[index],end=' ')\n",
    "    index-=1"
   ]
  },
  {
   "cell_type": "markdown",
   "id": "a5cff2c0-7f3f-4291-99d5-2b6ecda31cf4",
   "metadata": {},
   "source": [
    "7.写一个Python程序，判断一个输入的字符串S是否包含由两个或两个以上连续出现的相同字符组成的字符串。\r\n",
    "# 例如，abccccda中就包含cccc这个由4个连续字符组成的字符串。"
   ]
  },
  {
   "cell_type": "code",
   "execution_count": null,
   "id": "453a83ba-5a49-4362-bf99-87f67f8aab37",
   "metadata": {},
   "outputs": [],
   "source": [
    "import re\n",
    "def has_repeated_characters(s):\n",
    "    pattern = r'(.)\\1{1,}'\n",
    "    return re.search(pattern, s) is not None\n",
    "S = input(\"请输入一个字符串: \")\n",
    "if has_repeated_characters(S):\n",
    "    print(\"包含\")\n",
    "else:\n",
    "    print(\"不包含\")"
   ]
  },
  {
   "cell_type": "markdown",
   "id": "e180bc93-288a-4efa-9226-77a3da903b3a",
   "metadata": {},
   "source": [
    "8.写一个Python程序，输入一个字符串S，去掉其中所有的空格后输出。例如，“DataScience and Engineering”，去掉空格后为“DataScienceandEngineering”。"
   ]
  },
  {
   "cell_type": "code",
   "execution_count": null,
   "id": "4796da44-bebe-4d1c-8c8b-6b7912125ae6",
   "metadata": {},
   "outputs": [],
   "source": [
    "sentence = input(\"请输入句子: \")\n",
    "result = []\n",
    "for char in sentence:\n",
    "    if char != ' ':\n",
    "        result.append(char)\n",
    "for char in result:\n",
    "    print(char, end='')"
   ]
  },
  {
   "cell_type": "markdown",
   "id": "3ff96ba7-5b91-4a03-82a6-e57f9679e2ad",
   "metadata": {},
   "source": [
    "9.请设计一个求3次方根的算法（不允许直接调用求方根的函数），并给出对应的Python程序。 采用牛顿迭代法求解，迭代过程数学公式表示为："
   ]
  },
  {
   "cell_type": "code",
   "execution_count": null,
   "id": "7a2bcf94-2a96-41f8-86b0-1a2037e7884f",
   "metadata": {},
   "outputs": [],
   "source": [
    "def cubic_root(a,max_iterations=1000):\n",
    "    x_n = a if a >= 1 else 1.0\n",
    "    for i in range(max_iterations):\n",
    "        x_n1 = (2 * x_n / 3) + (a / (3 * x_n ** 2))\n",
    "        x_n = x_n1\n",
    "    return x_n\n",
    "number = float(input(\"请输入一个数字来计算其三次方根: \"))\n",
    "result = cubic_root(number)\n",
    "print(f\"{number} 的三次方根是: {result}\")"
   ]
  },
  {
   "cell_type": "markdown",
   "id": "382e56c0-f56c-450e-8ff1-67a3e2d7ab1d",
   "metadata": {},
   "source": [
    "10.写一个Python程序，给定一个常数n（n > 0），求n的阶乘，即n != 1×2×...×(n - 1)×n。例如，4 != 24，5 != 120"
   ]
  },
  {
   "cell_type": "code",
   "execution_count": null,
   "id": "f91e4529-b450-4fb2-82ce-054b9faff72e",
   "metadata": {},
   "outputs": [],
   "source": [
    "index=int(input(\"请输入一个常数:\"))\n",
    "sum=1\n",
    "for num in range(1,index+1):\n",
    "    sum*=num\n",
    "print(sum)"
   ]
  }
 ],
 "metadata": {
  "kernelspec": {
   "display_name": "Python 3 (ipykernel)",
   "language": "python",
   "name": "python3"
  },
  "language_info": {
   "codemirror_mode": {
    "name": "ipython",
    "version": 3
   },
   "file_extension": ".py",
   "mimetype": "text/x-python",
   "name": "python",
   "nbconvert_exporter": "python",
   "pygments_lexer": "ipython3",
   "version": "3.11.5"
  }
 },
 "nbformat": 4,
 "nbformat_minor": 5
}
