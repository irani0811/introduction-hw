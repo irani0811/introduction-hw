{
 "cells": [
  {
   "cell_type": "markdown",
   "metadata": {},
   "source": [
    "1.编写 Python程序,判断输入a是否为质数"
   ]
  },
  {
   "metadata": {
    "ExecuteTime": {
     "end_time": "2024-10-15T05:19:57.209626Z",
     "start_time": "2024-10-15T05:19:55.535141Z"
    }
   },
   "cell_type": "code",
   "source": [
    "a=int(input(\"Enter a number:\"))\n",
    "i=2\n",
    "if a==2:\n",
    "    print(\"a为质数\")\n",
    "elif a==1:\n",
    "    print(\"a不是质数\")\n",
    "while i<a:\n",
    "    if a%i==0:\n",
    "        print(\"a不是质数\")\n",
    "        i=a\n",
    "    else:\n",
    "        i=i+1\n",
    "        if i==a:\n",
    "            print(\"a为质数\")"
   ],
   "outputs": [
    {
     "name": "stdout",
     "output_type": "stream",
     "text": [
      "a为质数\n"
     ]
    }
   ],
   "execution_count": 6
  },
  {
   "cell_type": "markdown",
   "metadata": {},
   "source": [
    "2.用Python实现插入排序该算法，不允许直接调用插入排序函数，需要手动实现其逻辑过程。"
   ]
  },
  {
   "metadata": {
    "ExecuteTime": {
     "end_time": "2024-10-15T05:43:04.915253Z",
     "start_time": "2024-10-15T05:43:04.907320Z"
    }
   },
   "cell_type": "code",
   "source": [
    "arr=[5,4,9,6,11,8,56,5]\n",
    "for i in range(1,len(arr)):\n",
    "    key=arr[i]\n",
    "    j=i-1\n",
    "    while j>=0 and arr[j]>key:\n",
    "        arr[j+1]=arr[j]\n",
    "        j=j-1\n",
    "    arr[j+1]=key\n",
    "print(arr)"
   ],
   "outputs": [
    {
     "name": "stdout",
     "output_type": "stream",
     "text": [
      "[4, 5, 5, 6, 8, 9, 11, 56]\n"
     ]
    }
   ],
   "execution_count": 22
  },
  {
   "cell_type": "markdown",
   "metadata": {},
   "source": [
    "3.用Python实现选择排序该算法，不允许直接调用插入排序函数，需要手动实现其逻辑过程。"
   ]
  },
  {
   "metadata": {
    "ExecuteTime": {
     "end_time": "2024-10-15T05:58:31.099596Z",
     "start_time": "2024-10-15T05:58:31.095088Z"
    }
   },
   "cell_type": "code",
   "source": [
    "arr=[5,4,9,6,11,8,56,5]\n",
    "for i in range(len(arr)):\n",
    "    minnum=i\n",
    "    for j in range(i+1,len(arr)):\n",
    "        if arr[j]<arr[minnum]:\n",
    "            minnum=j\n",
    "    arr[i],arr[minnum]=arr[minnum],arr[i]\n",
    "print(arr)"
   ],
   "outputs": [
    {
     "name": "stdout",
     "output_type": "stream",
     "text": [
      "[4, 5, 5, 6, 8, 9, 11, 56]\n"
     ]
    }
   ],
   "execution_count": 25
  },
  {
   "cell_type": "markdown",
   "metadata": {},
   "source": [
    "4.用Python实现快速排序该算法，不允许直接调用插入排序函数，需要手动实现其逻辑过程。"
   ]
  },
  {
   "metadata": {
    "ExecuteTime": {
     "end_time": "2024-10-15T06:07:05.058366Z",
     "start_time": "2024-10-15T06:07:05.043256Z"
    }
   },
   "cell_type": "code",
   "source": [
    "arr=[5,4,9,6,11,8,56,5]\n",
    "def pattition(A,p,r):\n",
    "    x=A[r]\n",
    "    i=p-1\n",
    "    for j in range(p,r-1):\n",
    "        if A[j]<=x:\n",
    "            i=i+1\n",
    "            A[i],A[j]=A[j],A[i]\n",
    "    A[i+1],A[r]=A[r],A[i+1]\n",
    "    return i+1\n",
    "def quicksort(A,p,r):\n",
    "    if p<r:\n",
    "        q=pattition(A,p,r)\n",
    "        quicksort(A,p,q-1)\n",
    "        quicksort(A,q+1,r)\n",
    "quicksort(arr,0,len(arr)-1)\n",
    "print(arr)"
   ],
   "outputs": [
    {
     "name": "stdout",
     "output_type": "stream",
     "text": [
      "[4, 5, 5, 8, 6, 9, 11, 56]\n"
     ]
    }
   ],
   "execution_count": 27
  },
  {
   "cell_type": "markdown",
   "metadata": {},
   "source": [
    "5.使用 Python 随机生成三组长度递增的随机数列，长度分别为100、1000、10000，对生成的随机数组使用不同的排序算法，例如选择排序和归并排序，至少三种排序方法。对这些数列的数据排序，并分析不同排序算法在不同长度数列下的运行效果，例如运行时间等指标。"
   ]
  },
  {
   "metadata": {
    "ExecuteTime": {
     "end_time": "2024-10-15T06:35:53.519409Z",
     "start_time": "2024-10-15T06:35:48.232298Z"
    }
   },
   "cell_type": "code",
   "source": [
    "import random\n",
    "import time\n",
    "\n",
    "def generate_random_list(length):\n",
    "    return random.sample(range(length*10), length)\n",
    "\n",
    "# 插入排序\n",
    "def insertion_sort(arr):\n",
    "    for i in range(1,len(arr)):\n",
    "        key=arr[i]\n",
    "        j=i-1\n",
    "        while j>=0 and arr[j]>key:\n",
    "            arr[j+1]=arr[j]\n",
    "            j-=1\n",
    "        arr[j+1]=key\n",
    "    return arr\n",
    "\n",
    "# 选择排序\n",
    "def selection_sort(arr):\n",
    "    for i in range(len(arr)):\n",
    "        minnum=i\n",
    "        for j in range(i+1,len(arr)):\n",
    "            if arr[j]<arr[minnum]:\n",
    "                minnum=j\n",
    "        arr[i],arr[minnum]=arr[minnum],arr[i]\n",
    "    return arr\n",
    "\n",
    "# 快速排序\n",
    "def partition(arr,p,r):\n",
    "    x=arr[r]\n",
    "    i=p-1\n",
    "    for j in range(p,r):\n",
    "        if arr[j]<=x:\n",
    "            i+=1\n",
    "            arr[i],arr[j]=arr[j],arr[i]\n",
    "    arr[i+1],arr[r]=arr[r],arr[i+1]\n",
    "    return i+1\n",
    "\n",
    "def quicksort(arr,p,r):\n",
    "    if p<r:\n",
    "        q=partition(arr,p,r)\n",
    "        quicksort(arr,p,q-1)\n",
    "        quicksort(arr,q+1,r)\n",
    "    return arr\n",
    "\n",
    "def test_sorting():\n",
    "    lengths=[100,1000,10000]\n",
    "    algorithms={\n",
    "        '插入排序':insertion_sort,\n",
    "        '选择排序':selection_sort,\n",
    "        '快速排序':lambda arr:quicksort(arr,0,len(arr)-1)\n",
    "    }\n",
    "\n",
    "    for length in lengths:\n",
    "        print(f\"\\n生成长度为 {length} 的随机数列...\")\n",
    "        random_list=generate_random_list(length)\n",
    "        \n",
    "        for algorithm_name,algorithm in algorithms.items():\n",
    "            test_list=random_list.copy()\n",
    "            \n",
    "            start_time=time.time()\n",
    "            algorithm(test_list)\n",
    "            end_time=time.time()\n",
    "            print(f\"{algorithm_name} 用时: {end_time-start_time:.6f} 秒\")\n",
    "\n",
    "# 执行测试\n",
    "if __name__ == \"__main__\":\n",
    "    test_sorting()\n"
   ],
   "outputs": [
    {
     "name": "stdout",
     "output_type": "stream",
     "text": [
      "\n",
      "生成长度为 100 的随机数列...\n",
      "插入排序 用时: 0.000000 秒\n",
      "选择排序 用时: 0.000000 秒\n",
      "快速排序 用时: 0.000000 秒\n",
      "\n",
      "生成长度为 1000 的随机数列...\n",
      "插入排序 用时: 0.021034 秒\n",
      "选择排序 用时: 0.024822 秒\n",
      "快速排序 用时: 0.000504 秒\n",
      "\n",
      "生成长度为 10000 的随机数列...\n",
      "插入排序 用时: 2.631118 秒\n",
      "选择排序 用时: 2.565694 秒\n",
      "快速排序 用时: 0.023624 秒\n"
     ]
    }
   ],
   "execution_count": 37
  },
  {
   "metadata": {},
   "cell_type": "markdown",
   "source": "数据量较小时，三种排序速度不相上下，但当数据量在1000以上时，可看出三种排序中快速排序是最快的，它的时间复杂度是O（nlgn）随着随机数数量的增加，它明显会比其他两种快的多，而插入排序和选择排序表现差不多，都是O（n^2）的时间复杂度算法。"
  },
  {
   "cell_type": "markdown",
   "metadata": {},
   "source": [
    "6.使用python代码获取当前系统时间"
   ]
  },
  {
   "metadata": {
    "ExecuteTime": {
     "end_time": "2024-10-15T06:47:28.469698Z",
     "start_time": "2024-10-15T06:47:28.460942Z"
    }
   },
   "cell_type": "code",
   "source": [
    "import datetime\n",
    "time=datetime.datetime.now()\n",
    "print(\"当前系统时间:\",time)"
   ],
   "outputs": [
    {
     "name": "stdout",
     "output_type": "stream",
     "text": [
      "当前系统时间: 2024-10-15 14:47:28.464935\n"
     ]
    }
   ],
   "execution_count": 39
  },
  {
   "cell_type": "markdown",
   "metadata": {},
   "source": [
    "7.homework/data文件夹下的stuGrade.csv文件中包含5位同学的学号、语文成绩、数学成绩和英语成绩，请先用记事本打开该文件，查看文件内容，然后编写Python程序，读取该文件，并计算出各科的平均成绩（保留2位小数）。"
   ]
  },
  {
   "metadata": {},
   "cell_type": "code",
   "outputs": [
    {
     "name": "stdout",
     "output_type": "stream",
     "text": [
      "语文平均成绩: 82.60\n",
      "数学平均成绩: 81.00\n",
      "英语平均成绩: 81.80\n"
     ]
    }
   ],
   "execution_count": 5,
   "source": [
    "import csv\n",
    "file_path=r\"C:\\Users\\DELL\\PycharmProjects\\pythonProject\\introduction\\stuGrade.csv\"#我的下载路径\n",
    "total_chinese=0\n",
    "total_math=0\n",
    "total_english=0\n",
    "with open(file_path, newline='', encoding='utf-8') as csvfile:\n",
    "    reader=csv.reader(csvfile)\n",
    "    next(reader)\n",
    "    for row in reader:\n",
    "        total_chinese+=float(row[1])\n",
    "        total_math+=float(row[2])\n",
    "        total_english+=float(row[3])\n",
    "chinese=total_chinese/5\n",
    "math=total_math/5\n",
    "english=total_english/5\n",
    "print(f'语文平均成绩: {chinese:.2f}')\n",
    "print(f'数学平均成绩: {math:.2f}')\n",
    "print(f'英语平均成绩: {english:.2f}')\n",
    "output_text = (\n",
    "            f\"语文平均成绩:{chinese:.2f}\\n\"\n",
    "            f\"数学平均成绩: {math:.2f}\\n\"\n",
    "            f\"英语平均成绩: {english:.2f}\\n\"\n",
    "        )\n",
    "\n",
    "output_file_path=r\"C:\\Users\\DELL\\PycharmProjects\\pythonProject\\introduction\\my.txt\"\n",
    "with open(output_file_path,'w',encoding='utf-8') as outfile:\n",
    "            outfile.write(output_text)"
   ]
  },
  {
   "cell_type": "markdown",
   "metadata": {},
   "source": [
    "8.请在第7题的代码继续编写Python程序，将以下内容写入my.txt文件中，一并上传到github中。"
   ]
  }
 ],
 "metadata": {
  "language_info": {
   "name": "python"
  },
  "kernelspec": {
   "name": "python3",
   "language": "python",
   "display_name": "Python 3 (ipykernel)"
  }
 },
 "nbformat": 4,
 "nbformat_minor": 2
}
