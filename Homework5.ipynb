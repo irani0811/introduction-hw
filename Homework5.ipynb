{
 "cells": [
  {
   "metadata": {},
   "cell_type": "code",
   "outputs": [],
   "execution_count": null,
   "source": "0. 所有的题目结果中，给出SQL语句和执行结果。"
  },
  {
   "cell_type": "markdown",
   "metadata": {},
   "source": [
    "1. 在新数据库中新建一张 user 表,插入几条数据,属性包含:唯一标识(id),姓名(name)性别(sex).年龄(age).联系方式(phone)，数据如下：\n",
    "\n",
    "    ('John Doe', 'Male', 25, '123-456-7890')\n",
    "\n",
    "    ('Jane Smith', 'Female', 31, '987-654-3210')\n",
    "    \n",
    "    ('Bob Johnson', 'Male', 22, '555-123-4567')"
   ]
  },
  {
   "metadata": {},
   "cell_type": "code",
   "outputs": [],
   "execution_count": null,
   "source": [
    "CREATE TABLE users\n",
    "(\n",
    "    id int PRIMARY KEY auto_increment,\n",
    "    name varchar(255),\n",
    "    gender varchar(255),\n",
    "    age int,\n",
    "    phone char(12)\n",
    ");\n",
    "INSERT INTO users (name,gender,age,phone)VALUES('Bob Johnson', 'Male', 22, '555-123-4567');\n",
    "INSERT INTO users (name,gender,age,phone)VALUES('John Doe', 'Male', 25, '123-456-7890');\n",
    "INSERT INTO users (name,gender,age,phone)VALUES('Jane Smith', 'Female', 31, '987-654-3210');"
   ]
  },
  {
   "metadata": {},
   "cell_type": "code",
   "outputs": [],
   "execution_count": null,
   "source": [
    "+----+-------------+--------+------+--------------+\n",
    "| id | name        | gender | age  | phone        |\n",
    "+----+-------------+--------+------+--------------+\n",
    "|  1 | Bob Johnson | Male   |   22 | 555-123-4567 |\n",
    "|  2 | John Doe    | Male   |   25 | 123-456-7890 |\n",
    "|  3 | Jane Smith  | Female |   31 | 987-654-3210 |\n",
    "+----+-------------+--------+------+--------------+"
   ]
  },
  {
   "cell_type": "markdown",
   "metadata": {},
   "source": [
    "2. 写出 SQL语句,查询 user 表中所有年龄在 20-30 范围内的用户"
   ]
  },
  {
   "metadata": {},
   "cell_type": "code",
   "outputs": [],
   "execution_count": null,
   "source": "SELECT * FROM users WHERE age BETWEEN 20 AND 30;"
  },
  {
   "metadata": {},
   "cell_type": "code",
   "outputs": [],
   "execution_count": null,
   "source": [
    "+----+-------------+--------+------+--------------+\n",
    "| id | name        | gender | age  | phone        |\n",
    "+----+-------------+--------+------+--------------+\n",
    "|  1 | Bob Johnson | Male   |   22 | 555-123-4567 |\n",
    "|  2 | John Doe    | Male   |   25 | 123-456-7890 |\n",
    "+----+-------------+--------+------+--------------+"
   ]
  },
  {
   "cell_type": "markdown",
   "metadata": {},
   "source": [
    "3. 写出SQL语句，向user表中添加自己的个人信息，并添加几条和你姓名同姓的虚拟信息。"
   ]
  },
  {
   "metadata": {},
   "cell_type": "code",
   "outputs": [],
   "execution_count": null,
   "source": [
    "INSERT INTO users (name,gender,age,phone)VALUES('Enjolras Wang','Male',20,'137-024-6010');\n",
    "INSERT INTO users (name,gender,age,phone)VALUES('Enjolras Wang','Female',26,'137-024-6011');\n",
    "INSERT INTO users (name,gender,age,phone)VALUES('Enjolras Wang','Male',23,'137-012-6011');"
   ]
  },
  {
   "cell_type": "markdown",
   "metadata": {},
   "source": [
    "4. 写出 SQL语句,查询 user 表中年龄在 20-30 范围内,名字包含“你的姓氏”的用户,并按照年龄从大到小排序输出"
   ]
  },
  {
   "metadata": {},
   "cell_type": "code",
   "outputs": [],
   "execution_count": null,
   "source": [
    "SELECT*FROM users WHERE age BETWEEN 20 AND 30 AND name LIKE '%Wang%'\n",
    "ORDER BY age DESC;"
   ]
  },
  {
   "metadata": {},
   "cell_type": "code",
   "outputs": [],
   "execution_count": null,
   "source": [
    "+----+---------------+--------+------+--------------+\n",
    "| id | name          | gender | age  | phone        |\n",
    "+----+---------------+--------+------+--------------+\n",
    "|  5 | Enjolras Wang | Female |   26 | 137-024-6011 |\n",
    "|  6 | Enjolras Wang | Male   |   23 | 137-012-6011 |\n",
    "|  4 | Enjolras Wang | Male   |   20 | 137-024-6010 |\n",
    "+----+---------------+--------+------+--------------+"
   ]
  },
  {
   "cell_type": "markdown",
   "metadata": {},
   "source": [
    "5. 写出 SQL 语句,计算 user 表中所有用户的平均年龄"
   ]
  },
  {
   "metadata": {},
   "cell_type": "code",
   "outputs": [],
   "execution_count": null,
   "source": "SELECT AVG(age) FROM users;"
  },
  {
   "metadata": {},
   "cell_type": "code",
   "outputs": [],
   "execution_count": null,
   "source": [
    "+----------+\n",
    "| AVG(age) |\n",
    "+----------+\n",
    "|  24.5000 |\n",
    "+----------+"
   ]
  },
  {
   "cell_type": "markdown",
   "metadata": {},
   "source": [
    "6. 新建两张表team 表(id,teamName)和score 表(id,teamid,userid,score)。其中score 表中的 teamid 为指向 team表id 的外键，userid 为指向 user表id的外键"
   ]
  },
  {
   "metadata": {},
   "cell_type": "code",
   "outputs": [],
   "execution_count": null,
   "source": [
    "CREATE TABLE team (\n",
    "    id INT PRIMARY KEY AUTO_INCREMENT,\n",
    "    teamName VARCHAR(255),\n",
    ");\n",
    "CREATE TABLE score (\n",
    "    id INT PRIMARY KEY AUTO_INCREMENT,\n",
    "    teamid INT,\n",
    "    userid INT,\n",
    "    score INT,\n",
    "    FOREIGN KEY (teamid) REFERENCES team(id),\n",
    "    FOREIGN KEY (userid) REFERENCES users(id)\n",
    ");\n",
    "SHOW CREATE TABLE score;"
   ]
  },
  {
   "metadata": {},
   "cell_type": "code",
   "outputs": [],
   "execution_count": null,
   "source": [
    " score | CREATE TABLE `score` (\n",
    "  `id` int NOT NULL AUTO_INCREMENT,\n",
    "  `teamid` int DEFAULT NULL,\n",
    "  `userid` int DEFAULT NULL,\n",
    "  `score` int DEFAULT NULL,\n",
    "  PRIMARY KEY (`id`),\n",
    "  KEY `teamid` (`teamid`),\n",
    "  KEY `userid` (`userid`),\n",
    "  CONSTRAINT `score_ibfk_1` FOREIGN KEY (`teamid`) REFERENCES `team` (`id`),\n",
    "  CONSTRAINT `score_ibfk_2` FOREIGN KEY (`userid`) REFERENCES `users` (`id`)\n",
    ") ENGINE=InnoDB DEFAULT CHARSET=utf8mb4 COLLATE=utf8mb4_0900_ai_ci |"
   ]
  },
  {
   "cell_type": "markdown",
   "metadata": {},
   "source": [
    "7. 在team表中和score表中插入合适的记录，写出 SQL语句,查询 teamName 为“ECNU”的队伍中，年龄小于 20 的用户们，结果不得为空。"
   ]
  },
  {
   "metadata": {},
   "cell_type": "code",
   "outputs": [],
   "execution_count": null,
   "source": [
    "INSERT INTO team (id,teamName) VALUES ('1', 'ECNU');\n",
    "\n",
    "INSERT INTO users (name,gender,age) VALUES\n",
    "('Alice','Female',19),\n",
    "('Bob','Male',22),\n",
    "('Cathy','Female',18);\n",
    "\n",
    "INSERT INTO score (teamid,userid,score) VALUES\n",
    "('1','7',85),\n",
    "('1','9',90);\n",
    "\n",
    "SELECT users. * FROM users\n",
    "JOIN score ON users.id=score.userid\n",
    "JOIN team ON score.teamid=team.id\n",
    "WHERE team.teamName='ECNU' AND users.age<20;"
   ]
  },
  {
   "metadata": {},
   "cell_type": "code",
   "outputs": [],
   "execution_count": null,
   "source": [
    "+----+-------+--------+------+\n",
    "| id | name  | gender | age  | \n",
    "+----+-------+--------+------+\n",
    "|  7 | Alice | Female |   19 |\n",
    "|  9 | Cathy | Female |   18 |\n",
    "+----+-------+--------+------+"
   ]
  },
  {
   "cell_type": "markdown",
   "metadata": {},
   "source": "8. 写出 SQL 语句,计算 teamName为“ECNU”的总分(假设 score 存在 null值,nul值默认为 0 加入计算)。"
  },
  {
   "metadata": {},
   "cell_type": "code",
   "outputs": [],
   "execution_count": null,
   "source": [
    "SELECT SUM(COALESCE(score.score,0)) AS total_score FROM score\n",
    "JOIN team ON score.teamid=team.id \n",
    "WHERE team.teamname='ECNU';"
   ]
  },
  {
   "metadata": {},
   "cell_type": "code",
   "outputs": [],
   "execution_count": null,
   "source": [
    "+-------------+\n",
    "| total_score |\n",
    "+-------------+\n",
    "|         175 |\n",
    "+-------------+"
   ]
  },
  {
   "cell_type": "markdown",
   "metadata": {},
   "source": [
    "9. 写出SQL语句，删除user表中个人信息的记录。"
   ]
  },
  {
   "metadata": {},
   "cell_type": "code",
   "outputs": [],
   "execution_count": null,
   "source": [
    "mysql> DELETE FROM score;\n",
    "Query OK, 0 rows affected (0.00 sec)\n",
    "\n",
    "mysql> DROP TABLE score;\n",
    "Query OK, 0 rows affected (0.02 sec)\n",
    "\n",
    "mysql> DROP TABLE users;\n",
    "Query OK, 0 rows affected (0.02 sec)"
   ]
  }
 ],
 "metadata": {
  "language_info": {
   "name": "python"
  }
 },
 "nbformat": 4,
 "nbformat_minor": 2
}
