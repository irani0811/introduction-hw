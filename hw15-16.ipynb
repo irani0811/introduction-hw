{
 "cells": [
  {
   "metadata": {
    "ExecuteTime": {
     "end_time": "2024-12-17T07:06:21.464854Z",
     "start_time": "2024-12-17T07:06:19.071346Z"
    }
   },
   "cell_type": "code",
   "source": [
    "import pandas as pd\n",
    "\n",
    "# 读取数据集\n",
    "df = pd.read_csv('users_combined_info_500.csv')\n",
    "\n",
    "# 查看数据基本信息\n",
    "df.head()\n"
   ],
   "id": "193a2cd3850f5f6b",
   "outputs": [
    {
     "data": {
      "text/plain": [
       "   user_id    name     location  total_influence        country   event_type  \\\n",
       "0   663432  bdraco  Houston, TX      1776.967163  United States  CreateEvent   \n",
       "1   663432  bdraco  Houston, TX      1776.967163  United States  CreateEvent   \n",
       "2   663432  bdraco  Houston, TX      1776.967163  United States  CreateEvent   \n",
       "3   663432  bdraco  Houston, TX      1776.967163  United States  CreateEvent   \n",
       "4   663432  bdraco  Houston, TX      1776.967163  United States  CreateEvent   \n",
       "\n",
       "  event_action                 event_time  \n",
       "0        added  2024-11-26 20:28:37+08:00  \n",
       "1        added  2024-11-26 20:42:57+08:00  \n",
       "2        added  2024-11-27 04:10:46+08:00  \n",
       "3        added  2024-11-27 17:43:50+08:00  \n",
       "4        added  2024-11-27 19:56:34+08:00  "
      ],
      "text/html": [
       "<div>\n",
       "<style scoped>\n",
       "    .dataframe tbody tr th:only-of-type {\n",
       "        vertical-align: middle;\n",
       "    }\n",
       "\n",
       "    .dataframe tbody tr th {\n",
       "        vertical-align: top;\n",
       "    }\n",
       "\n",
       "    .dataframe thead th {\n",
       "        text-align: right;\n",
       "    }\n",
       "</style>\n",
       "<table border=\"1\" class=\"dataframe\">\n",
       "  <thead>\n",
       "    <tr style=\"text-align: right;\">\n",
       "      <th></th>\n",
       "      <th>user_id</th>\n",
       "      <th>name</th>\n",
       "      <th>location</th>\n",
       "      <th>total_influence</th>\n",
       "      <th>country</th>\n",
       "      <th>event_type</th>\n",
       "      <th>event_action</th>\n",
       "      <th>event_time</th>\n",
       "    </tr>\n",
       "  </thead>\n",
       "  <tbody>\n",
       "    <tr>\n",
       "      <th>0</th>\n",
       "      <td>663432</td>\n",
       "      <td>bdraco</td>\n",
       "      <td>Houston, TX</td>\n",
       "      <td>1776.967163</td>\n",
       "      <td>United States</td>\n",
       "      <td>CreateEvent</td>\n",
       "      <td>added</td>\n",
       "      <td>2024-11-26 20:28:37+08:00</td>\n",
       "    </tr>\n",
       "    <tr>\n",
       "      <th>1</th>\n",
       "      <td>663432</td>\n",
       "      <td>bdraco</td>\n",
       "      <td>Houston, TX</td>\n",
       "      <td>1776.967163</td>\n",
       "      <td>United States</td>\n",
       "      <td>CreateEvent</td>\n",
       "      <td>added</td>\n",
       "      <td>2024-11-26 20:42:57+08:00</td>\n",
       "    </tr>\n",
       "    <tr>\n",
       "      <th>2</th>\n",
       "      <td>663432</td>\n",
       "      <td>bdraco</td>\n",
       "      <td>Houston, TX</td>\n",
       "      <td>1776.967163</td>\n",
       "      <td>United States</td>\n",
       "      <td>CreateEvent</td>\n",
       "      <td>added</td>\n",
       "      <td>2024-11-27 04:10:46+08:00</td>\n",
       "    </tr>\n",
       "    <tr>\n",
       "      <th>3</th>\n",
       "      <td>663432</td>\n",
       "      <td>bdraco</td>\n",
       "      <td>Houston, TX</td>\n",
       "      <td>1776.967163</td>\n",
       "      <td>United States</td>\n",
       "      <td>CreateEvent</td>\n",
       "      <td>added</td>\n",
       "      <td>2024-11-27 17:43:50+08:00</td>\n",
       "    </tr>\n",
       "    <tr>\n",
       "      <th>4</th>\n",
       "      <td>663432</td>\n",
       "      <td>bdraco</td>\n",
       "      <td>Houston, TX</td>\n",
       "      <td>1776.967163</td>\n",
       "      <td>United States</td>\n",
       "      <td>CreateEvent</td>\n",
       "      <td>added</td>\n",
       "      <td>2024-11-27 19:56:34+08:00</td>\n",
       "    </tr>\n",
       "  </tbody>\n",
       "</table>\n",
       "</div>"
      ]
     },
     "execution_count": 21,
     "metadata": {},
     "output_type": "execute_result"
    }
   ],
   "execution_count": 21
  },
  {
   "metadata": {},
   "cell_type": "markdown",
   "source": [
    "1. 人口统计分析\n",
    "国家和地区分布"
   ],
   "id": "8d0327c2cc53e3be"
  },
  {
   "metadata": {
    "ExecuteTime": {
     "end_time": "2024-12-17T07:06:25.330289Z",
     "start_time": "2024-12-17T07:06:25.234686Z"
    }
   },
   "cell_type": "code",
   "source": [
    "# 统计国家和地区的分布\n",
    "country_distribution = df['country'].value_counts()\n",
    "\n",
    "# 显示结果\n",
    "print(country_distribution)\n"
   ],
   "id": "8c237a191a8fc29",
   "outputs": [
    {
     "name": "stdout",
     "output_type": "stream",
     "text": [
      "country\n",
      "United States           305788\n",
      "Germany                 182659\n",
      "China                    73011\n",
      "United Kingdom           71606\n",
      "France                   59570\n",
      "Canada                   58600\n",
      "Netherlands              52367\n",
      "Czechia                  48122\n",
      "Japan                    46553\n",
      "Switzerland              38093\n",
      "Australia                35746\n",
      "Italy                    30671\n",
      "Poland                   20002\n",
      "New Zealand              18444\n",
      "Spain                    14939\n",
      "Austria                  11758\n",
      "Sweden                    9851\n",
      "Finland                   8815\n",
      "Denmark                   7412\n",
      "Bulgaria                  7357\n",
      "Hungary                   7080\n",
      "Belgium                   6628\n",
      "Norway                    6004\n",
      "India                     5689\n",
      "United Arab Emirates      5264\n",
      "Singapore                 5205\n",
      "Brazil                    5022\n",
      "Hong Kong                 4767\n",
      "Malaysia                  4538\n",
      "Pakistan                  4462\n",
      "Indonesia                 4248\n",
      "Russia                    4087\n",
      "Taiwan                    3816\n",
      "Tunisia                   2776\n",
      "Ethiopia                  2637\n",
      "Colombia                  2590\n",
      "Slovenia                  2589\n",
      "South Korea               2528\n",
      "Ireland                   2443\n",
      "Vietnam                   2433\n",
      "Lebanon                   2259\n",
      "Ecuador                   2179\n",
      "Greece                    2176\n",
      "Portugal                  2133\n",
      "Kenya                     2068\n",
      "Egypt                     2008\n",
      "Georgia                   1845\n",
      "Estonia                   1781\n",
      "Lithuania                 1186\n",
      "South Africa               973\n",
      "Türkiye                    925\n",
      "Israel                     922\n",
      "Name: count, dtype: int64\n"
     ]
    }
   ],
   "execution_count": 22
  },
  {
   "metadata": {},
   "cell_type": "markdown",
   "source": "城市级别分布",
   "id": "684ffa9847613ffe"
  },
  {
   "metadata": {
    "ExecuteTime": {
     "end_time": "2024-12-17T07:06:32.774410Z",
     "start_time": "2024-12-17T07:06:32.690040Z"
    }
   },
   "cell_type": "code",
   "source": [
    "# 统计城市的分布\n",
    "city_distribution = df['location'].value_counts()\n",
    "\n",
    "# 显示结果\n",
    "print(city_distribution)\n"
   ],
   "id": "5fe7e23dbe5d7490",
   "outputs": [
    {
     "name": "stdout",
     "output_type": "stream",
     "text": [
      "location\n",
      "Germany                               107747\n",
      "Prague                                 37757\n",
      "Japan                                  26986\n",
      "Palo Alto, CA                          19215\n",
      "UK                                     17789\n",
      "                                       ...  \n",
      "北京                                       644\n",
      "Everything everywhere all at once.       635\n",
      "Delaware (but Philly at heart)           599\n",
      "Seville, Spain                           582\n",
      "Phoenixville, PA                          75\n",
      "Name: count, Length: 344, dtype: int64\n"
     ]
    }
   ],
   "execution_count": 23
  },
  {
   "metadata": {},
   "cell_type": "markdown",
   "source": "时区分布",
   "id": "59cce1de4decea33"
  },
  {
   "metadata": {
    "ExecuteTime": {
     "end_time": "2024-12-17T07:06:46.465913Z",
     "start_time": "2024-12-17T07:06:36.823917Z"
    }
   },
   "cell_type": "code",
   "source": [
    "# 确保event_time字段是时间格式\n",
    "df['event_time'] = pd.to_datetime(df['event_time'])\n",
    "\n",
    "# 提取时区（假设data中没有明确的时区信息，可以从event_time推断）\n",
    "df['hour'] = df['event_time'].dt.hour\n",
    "\n",
    "# 统计时区（小时）的分布\n",
    "timezone_distribution = df['hour'].value_counts().sort_index()\n",
    "\n",
    "# 显示结果\n",
    "print(timezone_distribution)\n"
   ],
   "id": "7319882a6d1b409",
   "outputs": [
    {
     "name": "stdout",
     "output_type": "stream",
     "text": [
      "hour\n",
      "0     37121\n",
      "1     39586\n",
      "2     35464\n",
      "3     32763\n",
      "4     31255\n",
      "5     32077\n",
      "6     41740\n",
      "7     63000\n",
      "8     56851\n",
      "9     64111\n",
      "10    64592\n",
      "11    62849\n",
      "12    64103\n",
      "13    69941\n",
      "14    71059\n",
      "15    71302\n",
      "16    68460\n",
      "17    61251\n",
      "18    60701\n",
      "19    60547\n",
      "20    56297\n",
      "21    53304\n",
      "22    51274\n",
      "23    45128\n",
      "Name: count, dtype: int64\n"
     ]
    }
   ],
   "execution_count": 24
  },
  {
   "metadata": {},
   "cell_type": "markdown",
   "source": [
    "2. 协作行为分析\n",
    "提交频率"
   ],
   "id": "984ffebff8fbe2e6"
  },
  {
   "metadata": {
    "ExecuteTime": {
     "end_time": "2024-12-17T07:07:03.259592Z",
     "start_time": "2024-12-17T07:07:03.205694Z"
    }
   },
   "cell_type": "code",
   "source": [
    "# 按用户统计提交频率\n",
    "user_submission_frequency = df.groupby('user_id').size()\n",
    "\n",
    "# 识别高活跃用户和低活跃用户\n",
    "high_active_users = user_submission_frequency[user_submission_frequency > user_submission_frequency.quantile(0.75)]\n",
    "low_active_users = user_submission_frequency[user_submission_frequency < user_submission_frequency.quantile(0.25)]\n",
    "\n",
    "# 显示结果\n",
    "print('高活跃用户:', high_active_users)\n",
    "print('低活跃用户:', low_active_users)\n"
   ],
   "id": "6670a3861831fc02",
   "outputs": [
    {
     "name": "stdout",
     "output_type": "stream",
     "text": [
      "高活跃用户: user_id\n",
      "225          2885\n",
      "13564        3140\n",
      "26967        3214\n",
      "27350        4509\n",
      "32321        3284\n",
      "             ... \n",
      "66076021     3735\n",
      "74887181     2997\n",
      "88161975     3394\n",
      "91018726     4098\n",
      "100913391    3177\n",
      "Length: 124, dtype: int64\n",
      "低活跃用户: user_id\n",
      "2621         796\n",
      "23304       1278\n",
      "34168       1460\n",
      "40680       1366\n",
      "47792       1337\n",
      "            ... \n",
      "62513924    1068\n",
      "62625502     621\n",
      "71636191    1158\n",
      "83238715     923\n",
      "89584709     862\n",
      "Length: 124, dtype: int64\n"
     ]
    }
   ],
   "execution_count": 25
  },
  {
   "metadata": {},
   "cell_type": "markdown",
   "source": [
    "3. 其他维度有趣的洞察\n",
    "提交行为与影响力的关系\n",
    "可以分析用户的total_influence与他们的提交次数之间的关系。"
   ],
   "id": "24f4f8ff8e58afe0"
  },
  {
   "metadata": {
    "ExecuteTime": {
     "end_time": "2024-12-17T07:13:13.854756Z",
     "start_time": "2024-12-17T07:13:13.578471Z"
    }
   },
   "cell_type": "code",
   "source": [
    "# 将提交频率与影响力结合\n",
    "user_info = user_submission_frequency.to_frame(name='submission_count')\n",
    "user_info['total_influence'] = df.groupby('user_id')['total_influence'].first()\n",
    "\n",
    "# 可视化影响力与提交次数的关系\n",
    "import matplotlib.pyplot as plt\n",
    "\n",
    "plt.scatter(user_info['total_influence'], user_info['submission_count'])\n",
    "plt.xlabel('Total Influence')\n",
    "plt.ylabel('Submission Count')\n",
    "plt.title('影响力与提交次数关系')\n",
    "plt.show()"
   ],
   "id": "8772dc71bbafb84e",
   "outputs": [
    {
     "name": "stderr",
     "output_type": "stream",
     "text": [
      "C:\\Users\\DELL\\anaconda3\\Lib\\site-packages\\IPython\\core\\pylabtools.py:170: UserWarning: Glyph 24433 (\\N{CJK UNIFIED IDEOGRAPH-5F71}) missing from font(s) Arial.\n",
      "  fig.canvas.print_figure(bytes_io, **kw)\n",
      "C:\\Users\\DELL\\anaconda3\\Lib\\site-packages\\IPython\\core\\pylabtools.py:170: UserWarning: Glyph 21709 (\\N{CJK UNIFIED IDEOGRAPH-54CD}) missing from font(s) Arial.\n",
      "  fig.canvas.print_figure(bytes_io, **kw)\n",
      "C:\\Users\\DELL\\anaconda3\\Lib\\site-packages\\IPython\\core\\pylabtools.py:170: UserWarning: Glyph 21147 (\\N{CJK UNIFIED IDEOGRAPH-529B}) missing from font(s) Arial.\n",
      "  fig.canvas.print_figure(bytes_io, **kw)\n",
      "C:\\Users\\DELL\\anaconda3\\Lib\\site-packages\\IPython\\core\\pylabtools.py:170: UserWarning: Glyph 19982 (\\N{CJK UNIFIED IDEOGRAPH-4E0E}) missing from font(s) Arial.\n",
      "  fig.canvas.print_figure(bytes_io, **kw)\n",
      "C:\\Users\\DELL\\anaconda3\\Lib\\site-packages\\IPython\\core\\pylabtools.py:170: UserWarning: Glyph 25552 (\\N{CJK UNIFIED IDEOGRAPH-63D0}) missing from font(s) Arial.\n",
      "  fig.canvas.print_figure(bytes_io, **kw)\n",
      "C:\\Users\\DELL\\anaconda3\\Lib\\site-packages\\IPython\\core\\pylabtools.py:170: UserWarning: Glyph 20132 (\\N{CJK UNIFIED IDEOGRAPH-4EA4}) missing from font(s) Arial.\n",
      "  fig.canvas.print_figure(bytes_io, **kw)\n",
      "C:\\Users\\DELL\\anaconda3\\Lib\\site-packages\\IPython\\core\\pylabtools.py:170: UserWarning: Glyph 27425 (\\N{CJK UNIFIED IDEOGRAPH-6B21}) missing from font(s) Arial.\n",
      "  fig.canvas.print_figure(bytes_io, **kw)\n",
      "C:\\Users\\DELL\\anaconda3\\Lib\\site-packages\\IPython\\core\\pylabtools.py:170: UserWarning: Glyph 25968 (\\N{CJK UNIFIED IDEOGRAPH-6570}) missing from font(s) Arial.\n",
      "  fig.canvas.print_figure(bytes_io, **kw)\n",
      "C:\\Users\\DELL\\anaconda3\\Lib\\site-packages\\IPython\\core\\pylabtools.py:170: UserWarning: Glyph 20851 (\\N{CJK UNIFIED IDEOGRAPH-5173}) missing from font(s) Arial.\n",
      "  fig.canvas.print_figure(bytes_io, **kw)\n",
      "C:\\Users\\DELL\\anaconda3\\Lib\\site-packages\\IPython\\core\\pylabtools.py:170: UserWarning: Glyph 31995 (\\N{CJK UNIFIED IDEOGRAPH-7CFB}) missing from font(s) Arial.\n",
      "  fig.canvas.print_figure(bytes_io, **kw)\n"
     ]
    },
    {
     "data": {
      "text/plain": [
       "<Figure size 640x480 with 1 Axes>"
      ],
      "image/png": "[encoded data removed]"
     },
     "metadata": {},
     "output_type": "display_data"
    }
   ],
   "execution_count": 28
  },
  {
   "metadata": {},
   "cell_type": "markdown",
   "source": "提交活动时间分析",
   "id": "2aa507532287e079"
  },
  {
   "metadata": {
    "ExecuteTime": {
     "end_time": "2024-12-17T07:13:12.941669Z",
     "start_time": "2024-12-17T07:13:12.655328Z"
    }
   },
   "cell_type": "code",
   "source": [
    "# 提取小时信息\n",
    "df['hour'] = df['event_time'].dt.hour\n",
    "\n",
    "# 统计每个小时的提交次数\n",
    "hourly_submission = df.groupby('hour').size()\n",
    "\n",
    "# 可视化活动时间\n",
    "plt.plot(hourly_submission.index, hourly_submission.values)\n",
    "plt.xlabel('Hour of Day')\n",
    "plt.ylabel('Submission Count')\n",
    "plt.title('每日提交活动时间分布')\n",
    "plt.show()"
   ],
   "id": "5ed2a2cca8a4600b",
   "outputs": [
    {
     "name": "stderr",
     "output_type": "stream",
     "text": [
      "C:\\Users\\DELL\\anaconda3\\Lib\\site-packages\\IPython\\core\\pylabtools.py:170: UserWarning: Glyph 27599 (\\N{CJK UNIFIED IDEOGRAPH-6BCF}) missing from font(s) Arial.\n",
      "  fig.canvas.print_figure(bytes_io, **kw)\n",
      "C:\\Users\\DELL\\anaconda3\\Lib\\site-packages\\IPython\\core\\pylabtools.py:170: UserWarning: Glyph 26085 (\\N{CJK UNIFIED IDEOGRAPH-65E5}) missing from font(s) Arial.\n",
      "  fig.canvas.print_figure(bytes_io, **kw)\n",
      "C:\\Users\\DELL\\anaconda3\\Lib\\site-packages\\IPython\\core\\pylabtools.py:170: UserWarning: Glyph 25552 (\\N{CJK UNIFIED IDEOGRAPH-63D0}) missing from font(s) Arial.\n",
      "  fig.canvas.print_figure(bytes_io, **kw)\n",
      "C:\\Users\\DELL\\anaconda3\\Lib\\site-packages\\IPython\\core\\pylabtools.py:170: UserWarning: Glyph 20132 (\\N{CJK UNIFIED IDEOGRAPH-4EA4}) missing from font(s) Arial.\n",
      "  fig.canvas.print_figure(bytes_io, **kw)\n",
      "C:\\Users\\DELL\\anaconda3\\Lib\\site-packages\\IPython\\core\\pylabtools.py:170: UserWarning: Glyph 27963 (\\N{CJK UNIFIED IDEOGRAPH-6D3B}) missing from font(s) Arial.\n",
      "  fig.canvas.print_figure(bytes_io, **kw)\n",
      "C:\\Users\\DELL\\anaconda3\\Lib\\site-packages\\IPython\\core\\pylabtools.py:170: UserWarning: Glyph 21160 (\\N{CJK UNIFIED IDEOGRAPH-52A8}) missing from font(s) Arial.\n",
      "  fig.canvas.print_figure(bytes_io, **kw)\n",
      "C:\\Users\\DELL\\anaconda3\\Lib\\site-packages\\IPython\\core\\pylabtools.py:170: UserWarning: Glyph 26102 (\\N{CJK UNIFIED IDEOGRAPH-65F6}) missing from font(s) Arial.\n",
      "  fig.canvas.print_figure(bytes_io, **kw)\n",
      "C:\\Users\\DELL\\anaconda3\\Lib\\site-packages\\IPython\\core\\pylabtools.py:170: UserWarning: Glyph 38388 (\\N{CJK UNIFIED IDEOGRAPH-95F4}) missing from font(s) Arial.\n",
      "  fig.canvas.print_figure(bytes_io, **kw)\n",
      "C:\\Users\\DELL\\anaconda3\\Lib\\site-packages\\IPython\\core\\pylabtools.py:170: UserWarning: Glyph 20998 (\\N{CJK UNIFIED IDEOGRAPH-5206}) missing from font(s) Arial.\n",
      "  fig.canvas.print_figure(bytes_io, **kw)\n",
      "C:\\Users\\DELL\\anaconda3\\Lib\\site-packages\\IPython\\core\\pylabtools.py:170: UserWarning: Glyph 24067 (\\N{CJK UNIFIED IDEOGRAPH-5E03}) missing from font(s) Arial.\n",
      "  fig.canvas.print_figure(bytes_io, **kw)\n"
     ]
    },
    {
     "data": {
      "text/plain": [
       "<Figure size 640x480 with 1 Axes>"
      ],
      "image/png": "[encoded data removed]"
     },
     "metadata": {},
     "output_type": "display_data"
    }
   ],
   "execution_count": 27
  }
 ],
 "metadata": {
  "kernelspec": {
   "display_name": "Python 3",
   "language": "python",
   "name": "python3"
  },
  "language_info": {
   "codemirror_mode": {
    "name": "ipython",
    "version": 2
   },
   "file_extension": ".py",
   "mimetype": "text/x-python",
   "name": "python",
   "nbconvert_exporter": "python",
   "pygments_lexer": "ipython2",
   "version": "2.7.6"
  }
 },
 "nbformat": 4,
 "nbformat_minor": 5
}
